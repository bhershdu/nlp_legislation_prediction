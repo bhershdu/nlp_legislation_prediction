{
 "cells": [
  {
   "cell_type": "code",
   "execution_count": 8,
   "metadata": {
    "collapsed": true,
    "pycharm": {
     "name": "#%%\n"
    }
   },
   "outputs": [],
   "source": [
    "import os\n",
    "import pandas as pd\n",
    "import numpy as np\n",
    "from tsne_torch import TorchTSNE as TSNE\n",
    "import fnmatch"
   ]
  },
  {
   "cell_type": "code",
   "execution_count": 11,
   "outputs": [],
   "source": [
    "token_path = os.path.join(os.getcwd(),\"..\",\"data\",\"tokenized\")"
   ],
   "metadata": {
    "collapsed": false,
    "pycharm": {
     "name": "#%%\n"
    }
   }
  },
  {
   "cell_type": "code",
   "execution_count": 27,
   "outputs": [],
   "source": [
    "number_to_load = 200"
   ],
   "metadata": {
    "collapsed": false,
    "pycharm": {
     "name": "#%%\n"
    }
   }
  },
  {
   "cell_type": "code",
   "execution_count": 28,
   "outputs": [
    {
     "name": "stdout",
     "output_type": "stream",
     "text": [
      "loading summary_bill_1811_1398363-maxpool.pkl\n",
      "loading summary_bill_1811_1393227-maxpool.pkl\n",
      "loading summary_bill_1959_1542997-maxpool.pkl\n",
      "loading summary_bill_1811_1514430-maxpool.pkl\n",
      "loading summary_bill_1811_1396463-maxpool.pkl\n",
      "loading summary_bill_1959_1542758-maxpool.pkl\n",
      "loading summary_bill_1959_1542858-maxpool.pkl\n",
      "loading summary_bill_1811_1403600-maxpool.pkl\n",
      "loading summary_bill_1959_1543542-maxpool.pkl\n",
      "loading summary_bill_1811_1445078-maxpool.pkl\n",
      "loading summary_bill_1811_1393145-maxpool.pkl\n",
      "loading summary_bill_1811_1405735-maxpool.pkl\n",
      "loading summary_bill_1811_1393117-maxpool.pkl\n",
      "loading summary_bill_1959_1544126-maxpool.pkl\n",
      "loading summary_bill_1959_1543123-maxpool.pkl\n",
      "loading summary_bill_1811_1396548-maxpool.pkl\n",
      "loading summary_bill_1811_1393079-maxpool.pkl\n",
      "loading summary_bill_1959_1542798-maxpool.pkl\n",
      "loading summary_bill_1811_1424105-maxpool.pkl\n",
      "loading summary_bill_1959_1542993-maxpool.pkl\n",
      "loading summary_bill_1959_1543392-maxpool.pkl\n",
      "loading summary_bill_1811_1393229-maxpool.pkl\n",
      "loading summary_bill_1811_1396026-maxpool.pkl\n",
      "loading summary_bill_1959_1543412-maxpool.pkl\n",
      "loading summary_bill_1959_1542917-maxpool.pkl\n",
      "loading summary_bill_1959_1543496-maxpool.pkl\n",
      "loading summary_bill_1959_1543009-maxpool.pkl\n",
      "loading summary_bill_1959_1545840-maxpool.pkl\n",
      "loading summary_bill_1811_1398395-maxpool.pkl\n",
      "loading summary_bill_1959_1543360-maxpool.pkl\n",
      "loading summary_bill_1959_1543418-maxpool.pkl\n",
      "loading summary_bill_1959_1575848-maxpool.pkl\n",
      "loading summary_bill_1959_1542984-maxpool.pkl\n",
      "loading summary_bill_1959_1542936-maxpool.pkl\n",
      "loading summary_bill_1959_1543112-maxpool.pkl\n",
      "loading summary_bill_1811_1411741-maxpool.pkl\n",
      "loading summary_bill_1959_1543232-maxpool.pkl\n",
      "loading summary_bill_1959_1543148-maxpool.pkl\n",
      "loading summary_bill_1811_1394069-maxpool.pkl\n",
      "loading summary_bill_1959_1543149-maxpool.pkl\n",
      "loading summary_bill_1959_1543003-maxpool.pkl\n",
      "loading summary_bill_1811_1396428-maxpool.pkl\n",
      "loading summary_bill_1811_1398393-maxpool.pkl\n",
      "loading summary_bill_1959_1543152-maxpool.pkl\n",
      "loading summary_bill_1811_1398391-maxpool.pkl\n",
      "loading summary_bill_1811_1393105-maxpool.pkl\n",
      "loading summary_bill_1959_1542998-maxpool.pkl\n",
      "loading summary_bill_1811_1393046-maxpool.pkl\n",
      "loading summary_bill_1959_1543306-maxpool.pkl\n",
      "loading summary_bill_1959_1545843-maxpool.pkl\n",
      "loading summary_bill_1959_1543285-maxpool.pkl\n",
      "loading summary_bill_1811_1393149-maxpool.pkl\n",
      "loading summary_bill_1811_1394208-maxpool.pkl\n",
      "loading summary_bill_1959_1543375-maxpool.pkl\n",
      "loading summary_bill_1959_1543478-maxpool.pkl\n",
      "loading summary_bill_1959_1543218-maxpool.pkl\n",
      "loading summary_bill_1811_1400144-maxpool.pkl\n",
      "loading summary_bill_1959_1542661-maxpool.pkl\n",
      "loading summary_bill_1959_1542812-maxpool.pkl\n",
      "loading summary_bill_1811_1393098-maxpool.pkl\n",
      "loading summary_bill_1959_1542900-maxpool.pkl\n",
      "loading summary_bill_1811_1393184-maxpool.pkl\n",
      "loading summary_bill_1959_1546414-maxpool.pkl\n",
      "loading summary_bill_1959_1543115-maxpool.pkl\n",
      "loading summary_bill_1811_1407747-maxpool.pkl\n",
      "loading summary_bill_1811_1392996-maxpool.pkl\n",
      "loading summary_bill_1959_1546387-maxpool.pkl\n",
      "loading summary_bill_1959_1545982-maxpool.pkl\n",
      "loading summary_bill_1959_1542653-maxpool.pkl\n",
      "loading summary_bill_1811_1423829-maxpool.pkl\n",
      "loading summary_bill_1959_1543234-maxpool.pkl\n",
      "loading summary_bill_1959_1545822-maxpool.pkl\n",
      "loading summary_bill_1959_1542958-maxpool.pkl\n",
      "loading summary_bill_1959_1543174-maxpool.pkl\n",
      "loading summary_bill_1959_1542694-maxpool.pkl\n",
      "loading summary_bill_1959_1542931-maxpool.pkl\n",
      "loading summary_bill_1959_1543341-maxpool.pkl\n",
      "loading summary_bill_1959_1543262-maxpool.pkl\n",
      "loading summary_bill_1811_1393212-maxpool.pkl\n",
      "loading summary_bill_1811_1396071-maxpool.pkl\n",
      "loading summary_bill_1959_1546421-maxpool.pkl\n",
      "loading summary_bill_1959_1543089-maxpool.pkl\n",
      "loading summary_bill_1959_1543264-maxpool.pkl\n",
      "loading summary_bill_1959_1546174-maxpool.pkl\n",
      "loading summary_bill_1811_1393168-maxpool.pkl\n",
      "loading summary_bill_1959_1543154-maxpool.pkl\n",
      "loading summary_bill_1959_1544121-maxpool.pkl\n",
      "loading summary_bill_1959_1543032-maxpool.pkl\n",
      "loading summary_bill_1959_1546339-maxpool.pkl\n",
      "loading summary_bill_1959_1543162-maxpool.pkl\n",
      "loading summary_bill_1959_1543169-maxpool.pkl\n",
      "loading summary_bill_1959_1543069-maxpool.pkl\n",
      "loading summary_bill_1959_1542902-maxpool.pkl\n",
      "loading summary_bill_1959_1543327-maxpool.pkl\n",
      "loading summary_bill_1959_1543352-maxpool.pkl\n",
      "loading summary_bill_1959_1542665-maxpool.pkl\n",
      "loading summary_bill_1959_1543324-maxpool.pkl\n",
      "loading summary_bill_1811_1423666-maxpool.pkl\n",
      "loading summary_bill_1959_1543277-maxpool.pkl\n",
      "loading summary_bill_1811_1396574-maxpool.pkl\n",
      "loading summary_bill_1959_1545991-maxpool.pkl\n",
      "loading summary_bill_1811_1393180-maxpool.pkl\n",
      "loading summary_bill_1811_1403533-maxpool.pkl\n",
      "loading summary_bill_1811_1411841-maxpool.pkl\n",
      "loading summary_bill_1959_1542734-maxpool.pkl\n",
      "loading summary_bill_1959_1543509-maxpool.pkl\n",
      "loading summary_bill_1959_1544114-maxpool.pkl\n",
      "loading summary_bill_1959_1543530-maxpool.pkl\n",
      "loading summary_bill_1811_1395565-maxpool.pkl\n",
      "loading summary_bill_1959_1545976-maxpool.pkl\n",
      "loading summary_bill_1959_1543488-maxpool.pkl\n",
      "loading summary_bill_1811_1403463-maxpool.pkl\n",
      "loading summary_bill_1959_1542765-maxpool.pkl\n",
      "loading summary_bill_1811_1395748-maxpool.pkl\n",
      "loading summary_bill_1959_1542728-maxpool.pkl\n",
      "loading summary_bill_1959_1543398-maxpool.pkl\n",
      "loading summary_bill_1811_1405768-maxpool.pkl\n",
      "loading summary_bill_1959_1542669-maxpool.pkl\n",
      "loading summary_bill_1959_1543129-maxpool.pkl\n",
      "loading summary_bill_1811_1396143-maxpool.pkl\n",
      "loading summary_bill_1959_1543085-maxpool.pkl\n",
      "loading summary_bill_1959_1542853-maxpool.pkl\n",
      "loading summary_bill_1811_1406710-maxpool.pkl\n",
      "loading summary_bill_1959_1545857-maxpool.pkl\n",
      "loading summary_bill_1811_1396189-maxpool.pkl\n",
      "loading summary_bill_1811_1405718-maxpool.pkl\n",
      "loading summary_bill_1811_1414532-maxpool.pkl\n",
      "loading summary_bill_1959_1546089-maxpool.pkl\n",
      "loading summary_bill_1959_1543331-maxpool.pkl\n",
      "loading summary_bill_1959_1543108-maxpool.pkl\n",
      "loading summary_bill_1811_1395562-maxpool.pkl\n",
      "loading summary_bill_1811_1403832-maxpool.pkl\n",
      "loading summary_bill_1959_1542849-maxpool.pkl\n",
      "loading summary_bill_1811_1405732-maxpool.pkl\n",
      "loading summary_bill_1959_1542818-maxpool.pkl\n",
      "loading summary_bill_1959_1542808-maxpool.pkl\n",
      "loading summary_bill_1959_1542978-maxpool.pkl\n",
      "loading summary_bill_1811_1393199-maxpool.pkl\n",
      "loading summary_bill_1811_1395587-maxpool.pkl\n",
      "loading summary_bill_1811_1398369-maxpool.pkl\n",
      "loading summary_bill_1959_1546395-maxpool.pkl\n",
      "loading summary_bill_1959_1543016-maxpool.pkl\n",
      "loading summary_bill_1811_1396659-maxpool.pkl\n",
      "loading summary_bill_1811_1398328-maxpool.pkl\n",
      "loading summary_bill_1959_1543010-maxpool.pkl\n",
      "loading summary_bill_1811_1393211-maxpool.pkl\n",
      "loading summary_bill_1959_1543367-maxpool.pkl\n",
      "loading summary_bill_1959_1543410-maxpool.pkl\n",
      "loading summary_bill_1959_1542648-maxpool.pkl\n",
      "loading summary_bill_1811_1398390-maxpool.pkl\n",
      "loading summary_bill_1959_1545942-maxpool.pkl\n",
      "loading summary_bill_1811_1393192-maxpool.pkl\n",
      "loading summary_bill_1959_1542963-maxpool.pkl\n",
      "loading summary_bill_1959_1545844-maxpool.pkl\n",
      "loading summary_bill_1811_1393152-maxpool.pkl\n",
      "loading summary_bill_1959_1543084-maxpool.pkl\n",
      "loading summary_bill_1811_1403672-maxpool.pkl\n",
      "loading summary_bill_1959_1546440-maxpool.pkl\n",
      "loading summary_bill_1811_1445121-maxpool.pkl\n",
      "loading summary_bill_1959_1544116-maxpool.pkl\n",
      "loading summary_bill_1959_1546112-maxpool.pkl\n",
      "loading summary_bill_1959_1543254-maxpool.pkl\n",
      "loading summary_bill_1959_1543325-maxpool.pkl\n",
      "loading summary_bill_1811_1395945-maxpool.pkl\n",
      "loading summary_bill_1811_1393183-maxpool.pkl\n",
      "loading summary_bill_1959_1543386-maxpool.pkl\n",
      "loading summary_bill_1959_1545891-maxpool.pkl\n",
      "loading summary_bill_1811_1395605-maxpool.pkl\n",
      "loading summary_bill_1811_1396280-maxpool.pkl\n",
      "loading summary_bill_1811_1398359-maxpool.pkl\n",
      "loading summary_bill_1811_1403664-maxpool.pkl\n",
      "loading summary_bill_1959_1542901-maxpool.pkl\n",
      "loading summary_bill_1811_1393181-maxpool.pkl\n",
      "loading summary_bill_1959_1543340-maxpool.pkl\n",
      "loading summary_bill_1959_1543190-maxpool.pkl\n",
      "loading summary_bill_1959_1542692-maxpool.pkl\n",
      "loading summary_bill_1959_1542969-maxpool.pkl\n",
      "loading summary_bill_1811_1396353-maxpool.pkl\n",
      "loading summary_bill_1959_1546096-maxpool.pkl\n",
      "loading summary_bill_1959_1542754-maxpool.pkl\n",
      "loading summary_bill_1959_1542863-maxpool.pkl\n",
      "loading summary_bill_1811_1393228-maxpool.pkl\n",
      "loading summary_bill_1811_1403451-maxpool.pkl\n",
      "loading summary_bill_1959_1543466-maxpool.pkl\n",
      "loading summary_bill_1959_1546471-maxpool.pkl\n",
      "loading summary_bill_1811_1393224-maxpool.pkl\n",
      "loading summary_bill_1959_1542658-maxpool.pkl\n",
      "loading summary_bill_1959_1542749-maxpool.pkl\n",
      "loading summary_bill_1811_1393890-maxpool.pkl\n",
      "loading summary_bill_1959_1546379-maxpool.pkl\n",
      "loading summary_bill_1959_1542736-maxpool.pkl\n",
      "loading summary_bill_1959_1543159-maxpool.pkl\n",
      "loading summary_bill_1811_1393111-maxpool.pkl\n",
      "loading summary_bill_1959_1543498-maxpool.pkl\n",
      "loading summary_bill_1811_1393194-maxpool.pkl\n",
      "loading summary_bill_1959_1543452-maxpool.pkl\n",
      "loading summary_bill_1959_1545916-maxpool.pkl\n",
      "loading summary_bill_1811_1398352-maxpool.pkl\n",
      "loading summary_bill_1811_1395967-maxpool.pkl\n",
      "loading summary_bill_1811_1403724-maxpool.pkl\n"
     ]
    }
   ],
   "source": [
    "file_count = 0\n",
    "encodings = []\n",
    "for root, dirs, files in os.walk(token_path):\n",
    "    for f in files:\n",
    "        if fnmatch.fnmatch(f, \"*maxpool*\"):\n",
    "            file_count += 1\n",
    "            if file_count <= number_to_load:\n",
    "                print(f'loading {f}')\n",
    "                df = pd.read_pickle(os.path.join(root, f), compression=\"gzip\")\n",
    "                encoding = np.array(df[\"input_maxpool\"])\n",
    "                encodings.append(encoding)"
   ],
   "metadata": {
    "collapsed": false,
    "pycharm": {
     "name": "#%%\n"
    }
   }
  },
  {
   "cell_type": "code",
   "execution_count": 29,
   "outputs": [
    {
     "data": {
      "text/plain": "200"
     },
     "execution_count": 29,
     "metadata": {},
     "output_type": "execute_result"
    }
   ],
   "source": [
    "len(encodings)"
   ],
   "metadata": {
    "collapsed": false,
    "pycharm": {
     "name": "#%%\n"
    }
   }
  },
  {
   "cell_type": "code",
   "execution_count": 30,
   "outputs": [],
   "source": [
    "np_encodings = np.array(encodings)"
   ],
   "metadata": {
    "collapsed": false,
    "pycharm": {
     "name": "#%%\n"
    }
   }
  },
  {
   "cell_type": "code",
   "execution_count": 31,
   "outputs": [
    {
     "data": {
      "text/plain": "(200, 2048)"
     },
     "execution_count": 31,
     "metadata": {},
     "output_type": "execute_result"
    }
   ],
   "source": [
    "np_encodings.shape"
   ],
   "metadata": {
    "collapsed": false,
    "pycharm": {
     "name": "#%%\n"
    }
   }
  },
  {
   "cell_type": "code",
   "execution_count": 32,
   "outputs": [
    {
     "data": {
      "text/plain": "(200, 2048)"
     },
     "execution_count": 32,
     "metadata": {},
     "output_type": "execute_result"
    }
   ],
   "source": [
    "np_encodings.shape"
   ],
   "metadata": {
    "collapsed": false,
    "pycharm": {
     "name": "#%%\n"
    }
   }
  },
  {
   "cell_type": "code",
   "execution_count": 35,
   "outputs": [
    {
     "name": "stderr",
     "output_type": "stream",
     "text": [
      "using cuda\n",
      "initializing...\n",
      "computing p-values...\n"
     ]
    },
    {
     "data": {
      "text/plain": "  0%|          | 0/200 [00:00<?, ?it/s]",
      "application/vnd.jupyter.widget-view+json": {
       "version_major": 2,
       "version_minor": 0,
       "model_id": "2ff8963b707a4779bde4a799bfef0843"
      }
     },
     "metadata": {},
     "output_type": "display_data"
    },
    {
     "name": "stderr",
     "output_type": "stream",
     "text": [
      "fitting...\n"
     ]
    },
    {
     "data": {
      "text/plain": "  0%|          | 0/1000 [00:00<?, ?it/s]",
      "application/vnd.jupyter.widget-view+json": {
       "version_major": 2,
       "version_minor": 0,
       "model_id": "1dd44e75ca4b454cb53e8b9676c20c8f"
      }
     },
     "metadata": {},
     "output_type": "display_data"
    }
   ],
   "source": [
    "embeddings = TSNE(n_components=2, perplexity=30, n_iter=1000, verbose=True).fit_transform(np_encodings)"
   ],
   "metadata": {
    "collapsed": false,
    "pycharm": {
     "name": "#%%\n"
    }
   }
  },
  {
   "cell_type": "code",
   "execution_count": 36,
   "outputs": [
    {
     "data": {
      "text/plain": "array([[nan, nan],\n       [nan, nan],\n       [nan, nan],\n       [nan, nan],\n       [nan, nan],\n       [nan, nan],\n       [nan, nan],\n       [nan, nan],\n       [nan, nan],\n       [nan, nan],\n       [nan, nan],\n       [nan, nan],\n       [nan, nan],\n       [nan, nan],\n       [nan, nan],\n       [nan, nan],\n       [nan, nan],\n       [nan, nan],\n       [nan, nan],\n       [nan, nan],\n       [nan, nan],\n       [nan, nan],\n       [nan, nan],\n       [nan, nan],\n       [nan, nan],\n       [nan, nan],\n       [nan, nan],\n       [nan, nan],\n       [nan, nan],\n       [nan, nan],\n       [nan, nan],\n       [nan, nan],\n       [nan, nan],\n       [nan, nan],\n       [nan, nan],\n       [nan, nan],\n       [nan, nan],\n       [nan, nan],\n       [nan, nan],\n       [nan, nan],\n       [nan, nan],\n       [nan, nan],\n       [nan, nan],\n       [nan, nan],\n       [nan, nan],\n       [nan, nan],\n       [nan, nan],\n       [nan, nan],\n       [nan, nan],\n       [nan, nan],\n       [nan, nan],\n       [nan, nan],\n       [nan, nan],\n       [nan, nan],\n       [nan, nan],\n       [nan, nan],\n       [nan, nan],\n       [nan, nan],\n       [nan, nan],\n       [nan, nan],\n       [nan, nan],\n       [nan, nan],\n       [nan, nan],\n       [nan, nan],\n       [nan, nan],\n       [nan, nan],\n       [nan, nan],\n       [nan, nan],\n       [nan, nan],\n       [nan, nan],\n       [nan, nan],\n       [nan, nan],\n       [nan, nan],\n       [nan, nan],\n       [nan, nan],\n       [nan, nan],\n       [nan, nan],\n       [nan, nan],\n       [nan, nan],\n       [nan, nan],\n       [nan, nan],\n       [nan, nan],\n       [nan, nan],\n       [nan, nan],\n       [nan, nan],\n       [nan, nan],\n       [nan, nan],\n       [nan, nan],\n       [nan, nan],\n       [nan, nan],\n       [nan, nan],\n       [nan, nan],\n       [nan, nan],\n       [nan, nan],\n       [nan, nan],\n       [nan, nan],\n       [nan, nan],\n       [nan, nan],\n       [nan, nan],\n       [nan, nan],\n       [nan, nan],\n       [nan, nan],\n       [nan, nan],\n       [nan, nan],\n       [nan, nan],\n       [nan, nan],\n       [nan, nan],\n       [nan, nan],\n       [nan, nan],\n       [nan, nan],\n       [nan, nan],\n       [nan, nan],\n       [nan, nan],\n       [nan, nan],\n       [nan, nan],\n       [nan, nan],\n       [nan, nan],\n       [nan, nan],\n       [nan, nan],\n       [nan, nan],\n       [nan, nan],\n       [nan, nan],\n       [nan, nan],\n       [nan, nan],\n       [nan, nan],\n       [nan, nan],\n       [nan, nan],\n       [nan, nan],\n       [nan, nan],\n       [nan, nan],\n       [nan, nan],\n       [nan, nan],\n       [nan, nan],\n       [nan, nan],\n       [nan, nan],\n       [nan, nan],\n       [nan, nan],\n       [nan, nan],\n       [nan, nan],\n       [nan, nan],\n       [nan, nan],\n       [nan, nan],\n       [nan, nan],\n       [nan, nan],\n       [nan, nan],\n       [nan, nan],\n       [nan, nan],\n       [nan, nan],\n       [nan, nan],\n       [nan, nan],\n       [nan, nan],\n       [nan, nan],\n       [nan, nan],\n       [nan, nan],\n       [nan, nan],\n       [nan, nan],\n       [nan, nan],\n       [nan, nan],\n       [nan, nan],\n       [nan, nan],\n       [nan, nan],\n       [nan, nan],\n       [nan, nan],\n       [nan, nan],\n       [nan, nan],\n       [nan, nan],\n       [nan, nan],\n       [nan, nan],\n       [nan, nan],\n       [nan, nan],\n       [nan, nan],\n       [nan, nan],\n       [nan, nan],\n       [nan, nan],\n       [nan, nan],\n       [nan, nan],\n       [nan, nan],\n       [nan, nan],\n       [nan, nan],\n       [nan, nan],\n       [nan, nan],\n       [nan, nan],\n       [nan, nan],\n       [nan, nan],\n       [nan, nan],\n       [nan, nan],\n       [nan, nan],\n       [nan, nan],\n       [nan, nan],\n       [nan, nan],\n       [nan, nan],\n       [nan, nan],\n       [nan, nan],\n       [nan, nan],\n       [nan, nan],\n       [nan, nan],\n       [nan, nan],\n       [nan, nan],\n       [nan, nan],\n       [nan, nan]], dtype=float32)"
     },
     "execution_count": 36,
     "metadata": {},
     "output_type": "execute_result"
    }
   ],
   "source": [
    "embeddings"
   ],
   "metadata": {
    "collapsed": false,
    "pycharm": {
     "name": "#%%\n"
    }
   }
  },
  {
   "cell_type": "code",
   "execution_count": null,
   "outputs": [],
   "source": [],
   "metadata": {
    "collapsed": false,
    "pycharm": {
     "name": "#%%\n"
    }
   }
  }
 ],
 "metadata": {
  "kernelspec": {
   "display_name": "Python 3",
   "language": "python",
   "name": "python3"
  },
  "language_info": {
   "codemirror_mode": {
    "name": "ipython",
    "version": 2
   },
   "file_extension": ".py",
   "mimetype": "text/x-python",
   "name": "python",
   "nbconvert_exporter": "python",
   "pygments_lexer": "ipython2",
   "version": "2.7.6"
  }
 },
 "nbformat": 4,
 "nbformat_minor": 0
}