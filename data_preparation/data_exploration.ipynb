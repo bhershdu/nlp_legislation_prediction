{
 "cells": [
  {
   "cell_type": "code",
   "execution_count": 4,
   "metadata": {
    "collapsed": true,
    "pycharm": {
     "name": "#%%\n"
    }
   },
   "outputs": [],
   "source": [
    "import os\n",
    "import os\n",
    "import pandas as pd\n",
    "import fnmatch"
   ]
  },
  {
   "cell_type": "markdown",
   "source": [
    "We want to produce a new dataframe with one row that summarizes each summary bill file.\n",
    "- text\n",
    "- text_length\n",
    "- party\n",
    "- status\n",
    "- full_encoding_length"
   ],
   "metadata": {
    "collapsed": false,
    "pycharm": {
     "name": "#%% md\n"
    }
   }
  },
  {
   "cell_type": "code",
   "execution_count": 76,
   "outputs": [],
   "source": [
    "parent_path = os.path.dirname(os.getcwd())\n",
    "token_path = os.path.join(parent_path, \"data\", \"tokenized\")\n",
    "data_explore_file = \"data_explore.df\"\n",
    "data_explore_df = None"
   ],
   "metadata": {
    "collapsed": false,
    "pycharm": {
     "name": "#%%\n"
    }
   }
  },
  {
   "cell_type": "code",
   "execution_count": 79,
   "outputs": [
    {
     "name": "stdout",
     "output_type": "stream",
     "text": [
      "loading existing file\n"
     ]
    }
   ],
   "source": [
    "if not os.path.exists(data_explore_file):\n",
    "    for root, dirs, files in os.walk(token_path):\n",
    "        for f in files:\n",
    "            if not fnmatch.fnmatch(f, \"*shrunk*\"):\n",
    "                print(f)\n",
    "                df = pd.read_pickle(os.path.join(root, f), compression=\"gzip\")\n",
    "                text = df[\"text\"][0]\n",
    "                text_length = len(text)\n",
    "                party = df[\"party\"][0]\n",
    "                status = df[\"status\"][0]\n",
    "                encoding_length = df.shape[0]\n",
    "                file_df = pd.DataFrame({\"file_name\": [f],\n",
    "                                        \"text\": [text],\n",
    "                                        \"text_length\": [text_length],\n",
    "                                        \"party\": [party],\n",
    "                                        \"status\": [status],\n",
    "                                         \"encoding_length\": [encoding_length]})\n",
    "                if data_explore_df is None:\n",
    "                    print(\"initializing\")\n",
    "                    data_explore_df = file_df\n",
    "                else:\n",
    "                    print(\"appending\")\n",
    "                    data_explore_df = pd.concat([data_explore_df, file_df], ignore_index=True)\n",
    "    data_explore_df.to_pickle(data_explore_file,compression=\"gzip\")\n",
    "else:\n",
    "    print(\"loading existing file\")\n",
    "    data_explore_df = pd.read_pickle(data_explore_file, compression=\"gzip\")"
   ],
   "metadata": {
    "collapsed": false,
    "pycharm": {
     "name": "#%%\n"
    }
   }
  },
  {
   "cell_type": "code",
   "execution_count": 80,
   "outputs": [
    {
     "data": {
      "text/plain": "                       file_name  \\\n0  summary_bill_1811_1392983.pkl   \n1  summary_bill_1811_1392984.pkl   \n2  summary_bill_1811_1392985.pkl   \n3  summary_bill_1811_1392986.pkl   \n4  summary_bill_1811_1392988.pkl   \n\n                                                text  text_length  party  \\\n0  Establishing procedures for municipal host cus...           84      1   \n1  Relative to the referral of debts for collection.           49      1   \n2  Relative to termination of tenancy at the expi...           82      1   \n3  Relative to the justified use of deadly force ...           66      1   \n4  Relative to ratification of amendments to the ...           86      3   \n\n   status  encoding_length  \n0       2            13056  \n1       2             9984  \n2       3            16128  \n3       2            11520  \n4       3            14592  ",
      "text/html": "<div>\n<style scoped>\n    .dataframe tbody tr th:only-of-type {\n        vertical-align: middle;\n    }\n\n    .dataframe tbody tr th {\n        vertical-align: top;\n    }\n\n    .dataframe thead th {\n        text-align: right;\n    }\n</style>\n<table border=\"1\" class=\"dataframe\">\n  <thead>\n    <tr style=\"text-align: right;\">\n      <th></th>\n      <th>file_name</th>\n      <th>text</th>\n      <th>text_length</th>\n      <th>party</th>\n      <th>status</th>\n      <th>encoding_length</th>\n    </tr>\n  </thead>\n  <tbody>\n    <tr>\n      <th>0</th>\n      <td>summary_bill_1811_1392983.pkl</td>\n      <td>Establishing procedures for municipal host cus...</td>\n      <td>84</td>\n      <td>1</td>\n      <td>2</td>\n      <td>13056</td>\n    </tr>\n    <tr>\n      <th>1</th>\n      <td>summary_bill_1811_1392984.pkl</td>\n      <td>Relative to the referral of debts for collection.</td>\n      <td>49</td>\n      <td>1</td>\n      <td>2</td>\n      <td>9984</td>\n    </tr>\n    <tr>\n      <th>2</th>\n      <td>summary_bill_1811_1392985.pkl</td>\n      <td>Relative to termination of tenancy at the expi...</td>\n      <td>82</td>\n      <td>1</td>\n      <td>3</td>\n      <td>16128</td>\n    </tr>\n    <tr>\n      <th>3</th>\n      <td>summary_bill_1811_1392986.pkl</td>\n      <td>Relative to the justified use of deadly force ...</td>\n      <td>66</td>\n      <td>1</td>\n      <td>2</td>\n      <td>11520</td>\n    </tr>\n    <tr>\n      <th>4</th>\n      <td>summary_bill_1811_1392988.pkl</td>\n      <td>Relative to ratification of amendments to the ...</td>\n      <td>86</td>\n      <td>3</td>\n      <td>3</td>\n      <td>14592</td>\n    </tr>\n  </tbody>\n</table>\n</div>"
     },
     "execution_count": 80,
     "metadata": {},
     "output_type": "execute_result"
    }
   ],
   "source": [
    "data_explore_df.head(5)"
   ],
   "metadata": {
    "collapsed": false,
    "pycharm": {
     "name": "#%%\n"
    }
   }
  },
  {
   "cell_type": "code",
   "execution_count": 21,
   "outputs": [],
   "source": [
    "from matplotlib import pyplot as plt"
   ],
   "metadata": {
    "collapsed": false,
    "pycharm": {
     "name": "#%%\n"
    }
   }
  },
  {
   "cell_type": "markdown",
   "source": [
    "Let's look at the text lengths"
   ],
   "metadata": {
    "collapsed": false,
    "pycharm": {
     "name": "#%% md\n"
    }
   }
  },
  {
   "cell_type": "code",
   "execution_count": 81,
   "outputs": [
    {
     "data": {
      "text/plain": "<Figure size 432x288 with 1 Axes>",
      "image/png": "[encoded data removed]"
     },
     "metadata": {
      "needs_background": "light"
     },
     "output_type": "display_data"
    }
   ],
   "source": [
    "plt.hist(data_explore_df[\"text_length\"], bins=30)\n",
    "plt.title(\"distribution of text length\")\n",
    "plt.show()"
   ],
   "metadata": {
    "collapsed": false,
    "pycharm": {
     "name": "#%%\n"
    }
   }
  },
  {
   "cell_type": "markdown",
   "source": [
    "Let's look at the distribution of party affiliation"
   ],
   "metadata": {
    "collapsed": false,
    "pycharm": {
     "name": "#%% md\n"
    }
   }
  },
  {
   "cell_type": "code",
   "execution_count": 82,
   "outputs": [
    {
     "data": {
      "text/plain": "<Figure size 432x288 with 1 Axes>",
      "image/png": "[encoded data removed]"
     },
     "metadata": {
      "needs_background": "light"
     },
     "output_type": "display_data"
    }
   ],
   "source": [
    "party_count = data_explore_df.groupby([\"party\"]).count()\n",
    "party_count[\"names\"] = [\"Dem\",\"Rep\",\"Ind\"]\n",
    "ax = plt.subplot()\n",
    "ax.bar(party_count.index, party_count[\"text\"])\n",
    "plt.title(\"distribution of party\")\n",
    "plt.show()"
   ],
   "metadata": {
    "collapsed": false,
    "pycharm": {
     "name": "#%%\n"
    }
   }
  },
  {
   "cell_type": "markdown",
   "source": [
    "Look at the distribution of status values"
   ],
   "metadata": {
    "collapsed": false,
    "pycharm": {
     "name": "#%% md\n"
    }
   }
  },
  {
   "cell_type": "code",
   "execution_count": 83,
   "outputs": [
    {
     "data": {
      "text/plain": "<Figure size 432x288 with 1 Axes>",
      "image/png": "[encoded data removed]"
     },
     "metadata": {
      "needs_background": "light"
     },
     "output_type": "display_data"
    }
   ],
   "source": [
    "status_count = data_explore_df.groupby([\"status\"]).count()\n",
    "ax_s = plt.subplot()\n",
    "ax_s.bar(status_count.index, status_count[\"text\"])\n",
    "plt.title(\"distribution of bill status\")\n",
    "plt.show()"
   ],
   "metadata": {
    "collapsed": false,
    "pycharm": {
     "name": "#%%\n"
    }
   }
  },
  {
   "cell_type": "markdown",
   "source": [
    "Distribution of encoding lengths"
   ],
   "metadata": {
    "collapsed": false,
    "pycharm": {
     "name": "#%% md\n"
    }
   }
  },
  {
   "cell_type": "code",
   "execution_count": 84,
   "outputs": [
    {
     "data": {
      "text/plain": "<Figure size 432x288 with 1 Axes>",
      "image/png": "[encoded data removed]"
     },
     "metadata": {
      "needs_background": "light"
     },
     "output_type": "display_data"
    }
   ],
   "source": [
    "plt.hist(data_explore_df[\"encoding_length\"], bins=50)\n",
    "plt.title(\"distribution of encoding length\")\n",
    "plt.show()"
   ],
   "metadata": {
    "collapsed": false,
    "pycharm": {
     "name": "#%%\n"
    }
   }
  },
  {
   "cell_type": "markdown",
   "source": [
    "Text length vs Encoding Length"
   ],
   "metadata": {
    "collapsed": false,
    "pycharm": {
     "name": "#%% md\n"
    }
   }
  },
  {
   "cell_type": "code",
   "execution_count": 85,
   "outputs": [
    {
     "data": {
      "text/plain": "<Figure size 432x288 with 1 Axes>",
      "image/png": "[encoded data removed]"
     },
     "metadata": {
      "needs_background": "light"
     },
     "output_type": "display_data"
    }
   ],
   "source": [
    "plt.scatter(data_explore_df[\"text_length\"], data_explore_df[\"encoding_length\"])\n",
    "plt.title(\"text length vs encoding length\")\n",
    "plt.show()"
   ],
   "metadata": {
    "collapsed": false,
    "pycharm": {
     "name": "#%%\n"
    }
   }
  },
  {
   "cell_type": "markdown",
   "source": [
    "Which file has the max text length and lets read it in"
   ],
   "metadata": {
    "collapsed": false,
    "pycharm": {
     "name": "#%% md\n"
    }
   }
  },
  {
   "cell_type": "code",
   "execution_count": 86,
   "outputs": [],
   "source": [
    "file_name = data_explore_df[\"file_name\"][data_explore_df[\"text_length\"].idxmax()]"
   ],
   "metadata": {
    "collapsed": false,
    "pycharm": {
     "name": "#%%\n"
    }
   }
  },
  {
   "cell_type": "code",
   "execution_count": 87,
   "outputs": [],
   "source": [
    "max_length_file = pd.read_pickle(os.path.join(token_path, file_name), compression=\"gzip\")"
   ],
   "metadata": {
    "collapsed": false,
    "pycharm": {
     "name": "#%%\n"
    }
   }
  },
  {
   "cell_type": "code",
   "execution_count": 89,
   "outputs": [
    {
     "data": {
      "text/plain": "'Requiring certain licensing and reporting functions be conducted through the Nationwide Multistate Licensing System and Registry, relative to background investigations of trust officers, to certain filing fees, assessments, and interest rates, and to the transmission of consumer complaints by the banking department, requiring employers to provide certain workplace accommodations for employees, establishing the New Hampshire housing and conservation planning program, and relative to the collaborative care model service delivery method.'"
     },
     "execution_count": 89,
     "metadata": {},
     "output_type": "execute_result"
    }
   ],
   "source": [
    "max_length_file[\"text\"][0]"
   ],
   "metadata": {
    "collapsed": false,
    "pycharm": {
     "name": "#%%\n"
    }
   }
  },
  {
   "cell_type": "markdown",
   "source": [
    "party vs status"
   ],
   "metadata": {
    "collapsed": false,
    "pycharm": {
     "name": "#%% md\n"
    }
   }
  },
  {
   "cell_type": "code",
   "execution_count": null,
   "outputs": [],
   "source": [],
   "metadata": {
    "collapsed": false,
    "pycharm": {
     "name": "#%%\n"
    }
   }
  },
  {
   "cell_type": "code",
   "execution_count": 91,
   "outputs": [
    {
     "data": {
      "text/plain": "party  status\n0      2         334\n       3          30\n       5          80\n       6           1\n1      1           1\n       2         480\n       3         137\n       4           9\n       5         239\n       6          10\n3      1           1\n       2         265\n       3         129\n       4          18\n       5         249\n       6           4\ndtype: int64"
     },
     "execution_count": 91,
     "metadata": {},
     "output_type": "execute_result"
    }
   ],
   "source": [
    "data_explore_df.groupby([\"party\",\"status\"]).size()"
   ],
   "metadata": {
    "collapsed": false,
    "pycharm": {
     "name": "#%%\n"
    }
   }
  },
  {
   "cell_type": "raw",
   "source": [],
   "metadata": {
    "collapsed": false,
    "pycharm": {
     "name": "#%% raw\n"
    }
   }
  }
 ],
 "metadata": {
  "kernelspec": {
   "display_name": "Python 3",
   "language": "python",
   "name": "python3"
  },
  "language_info": {
   "codemirror_mode": {
    "name": "ipython",
    "version": 2
   },
   "file_extension": ".py",
   "mimetype": "text/x-python",
   "name": "python",
   "nbconvert_exporter": "python",
   "pygments_lexer": "ipython2",
   "version": "2.7.6"
  }
 },
 "nbformat": 4,
 "nbformat_minor": 0
}